{
 "cells": [
  {
   "cell_type": "markdown",
   "id": "6e52486a-30b4-48a6-8736-a7ae354f99ad",
   "metadata": {},
   "source": [
    "# Projeto \"Perfis dos apps lucrativos da App Store e Google Play\""
   ]
  },
  {
   "cell_type": "markdown",
   "id": "7f1f861c-dd2f-4e3c-9db9-3a46128c1c90",
   "metadata": {},
   "source": [
    "**Meu** objetivo com o projeto é aplicar, de maneira combinada, os conhecimentos abaixo obtidos durante o curso de Python do DataQuest:\n",
    "\n",
    "- Básicos de programação em Python (operações aritméticas, variáveis, tipos de dados, etc...)\n",
    "- Listas e loops\n",
    "- Condicionais\n",
    "- Dicionários e tabelas de frequência\n",
    "- Funções"
   ]
  },
  {
   "cell_type": "markdown",
   "id": "e28bc7a9-0b0a-498c-95e6-3bad7ff61b20",
   "metadata": {},
   "source": [
    "Já o objetivo do projeto é analisar dados de aplicativos gratuitos para entender quais deles atraem mais usuários, uma vez que a receita da empresa fictícia depende de propagandas nos apps. Logo, **mais usuários = maior receita**"
   ]
  },
  {
   "cell_type": "code",
   "execution_count": 1,
   "id": "c408a491-7a60-47e2-90e5-48d9b2fe2554",
   "metadata": {},
   "outputs": [],
   "source": [
    "def explore_data(dataset, start, end, rows_and_columns=False):\n",
    "    ''' Função fornecida pelo DataQuest.''' \n",
    "    dataset_slice = dataset[start:end]    \n",
    "    for row in dataset_slice:\n",
    "        print(row)\n",
    "        print('\\n') # adds a new (empty) line after each row\n",
    "\n",
    "    if rows_and_columns:\n",
    "        print('Number of rows:', len(dataset))\n",
    "        print('Number of columns:', len(dataset[0]))"
   ]
  },
  {
   "cell_type": "code",
   "execution_count": 2,
   "id": "0abd6338-4ec6-4b93-b83a-9a38ca1e5f35",
   "metadata": {},
   "outputs": [
    {
     "name": "stdout",
     "output_type": "stream",
     "text": [
      "['1', '281656475', 'PAC-MAN Premium', '100788224', 'USD', '3.99', '21292', '26', '4', '4.5', '6.3.5', '4+', 'Games', '38', '5', '10', '1']\n",
      "\n",
      "\n",
      "['2', '281796108', 'Evernote - stay organized', '158578688', 'USD', '0', '161065', '26', '4', '3.5', '8.2.2', '4+', 'Productivity', '37', '5', '23', '1']\n",
      "\n",
      "\n",
      "['3', '281940292', 'WeatherBug - Local Weather, Radar, Maps, Alerts', '100524032', 'USD', '0', '188583', '2822', '3.5', '4.5', '5.0.0', '4+', 'Weather', '37', '5', '3', '1']\n",
      "\n",
      "\n",
      "['4', '282614216', 'eBay: Best App to Buy, Sell, Save! Online Shopping', '128512000', 'USD', '0', '262241', '649', '4', '4.5', '5.10.0', '12+', 'Shopping', '37', '5', '9', '1']\n",
      "\n",
      "\n",
      "Number of rows: 7198\n",
      "Number of columns: 17\n",
      "None\n"
     ]
    }
   ],
   "source": [
    "# Abrindo os dados da Apple Store\n",
    "from csv import reader\n",
    "open_file = open(r'C:\\Users\\lcsbi\\Desktop\\Data Science\\DataQuest\\Projeto Apps Lucrativos\\AppleStore.csv', encoding='utf8')\n",
    "read_file = reader(open_file)\n",
    "apple = list(read_file)\n",
    "\n",
    "print(explore_data(apple, 1, 5, rows_and_columns=True))"
   ]
  },
  {
   "cell_type": "code",
   "execution_count": 3,
   "id": "647193b3-8af2-4929-bc75-0bbc8c40ddd5",
   "metadata": {},
   "outputs": [
    {
     "name": "stdout",
     "output_type": "stream",
     "text": [
      "['Photo Editor & Candy Camera & Grid & ScrapBook', 'ART_AND_DESIGN', '4.1', '159', '19M', '10,000+', 'Free', '0', 'Everyone', 'Art & Design', 'January 7, 2018', '1.0.0', '4.0.3 and up']\n",
      "\n",
      "\n",
      "['Coloring book moana', 'ART_AND_DESIGN', '3.9', '967', '14M', '500,000+', 'Free', '0', 'Everyone', 'Art & Design;Pretend Play', 'January 15, 2018', '2.0.0', '4.0.3 and up']\n",
      "\n",
      "\n",
      "['U Launcher Lite – FREE Live Cool Themes, Hide Apps', 'ART_AND_DESIGN', '4.7', '87510', '8.7M', '5,000,000+', 'Free', '0', 'Everyone', 'Art & Design', 'August 1, 2018', '1.2.4', '4.0.3 and up']\n",
      "\n",
      "\n",
      "['Sketch - Draw & Paint', 'ART_AND_DESIGN', '4.5', '215644', '25M', '50,000,000+', 'Free', '0', 'Teen', 'Art & Design', 'June 8, 2018', 'Varies with device', '4.2 and up']\n",
      "\n",
      "\n",
      "Number of rows: 10842\n",
      "Number of columns: 13\n",
      "None\n"
     ]
    }
   ],
   "source": [
    "# Abrindo os dados da Google Play Store\n",
    "from csv import reader\n",
    "open_file = open(r'C:\\Users\\lcsbi\\Desktop\\Data Science\\DataQuest\\Projeto Apps Lucrativos\\googleplaystore.csv', encoding='utf8')\n",
    "read_file = reader(open_file)\n",
    "android = list(read_file)\n",
    "\n",
    "print(explore_data(android, 1, 5, rows_and_columns=True))"
   ]
  },
  {
   "cell_type": "markdown",
   "id": "b67e7bb8-3148-4384-a1de-ce4cccfed6b0",
   "metadata": {
    "tags": []
   },
   "source": [
    "# Checando as colunas de cada dataset"
   ]
  },
  {
   "cell_type": "code",
   "execution_count": 4,
   "id": "8d4027c1-539a-4a42-94e9-86e1a2143fa4",
   "metadata": {},
   "outputs": [
    {
     "name": "stdout",
     "output_type": "stream",
     "text": [
      "As colunas do dataset da Google Play Store são ['App', 'Category', 'Rating', 'Reviews', 'Size', 'Installs', 'Type', 'Price', 'Content Rating', 'Genres', 'Last Updated', 'Current Ver', 'Android Ver'] \n",
      " \n",
      " As colunas do dataset da Apple Store são ['', 'id', 'track_name', 'size_bytes', 'currency', 'price', 'rating_count_tot', 'rating_count_ver', 'user_rating', 'user_rating_ver', 'ver', 'cont_rating', 'prime_genre', 'sup_devices.num', 'ipadSc_urls.num', 'lang.num', 'vpp_lic']\n"
     ]
    }
   ],
   "source": [
    "colunas_android = android[0]\n",
    "colunas_apple = apple[0]\n",
    "print(f'As colunas do dataset da Google Play Store são {colunas_android} \\n \\n As colunas do dataset da Apple Store são {colunas_apple}')"
   ]
  },
  {
   "cell_type": "markdown",
   "id": "4d3bdc20-5c8c-49c4-a494-f16a93f3f9a4",
   "metadata": {},
   "source": [
    "Olhando os dados acima, para o df da [Google Play Store](https://www.kaggle.com/datasets/lava18/google-play-store-apps?select=googleplaystore_user_reviews.csv), considero as seguintes tabelas **úteis** para o propósito do projeto:\n",
    "\n",
    "- **App** - *Nome do app*\n",
    "- **Reviews** - *Número de avaliações do aplicativo*\n",
    "- **Installs** - *Número de vezes que foi instalado*\n",
    "- **Type** - *Mostra se app é pago ou gratuito*\n",
    "- **Genres** - *Categoria do app*\n",
    "\n",
    "Para o df da [Apple Store](https://www.kaggle.com/datasets/ramamet4/app-store-apple-data-set-10k-apps?select=AppleStore.csv):\n",
    "\n",
    "- **track_name** - *Nome do app*\n",
    "- **price** - *preço*\n",
    "- **ratingcounttot** - *Contagem de avaliação de usuários (para todas as versões do app)*\n",
    "- **primary_genre** - *Categoria do app*"
   ]
  },
  {
   "cell_type": "markdown",
   "id": "69973a2a-c574-4eec-aef4-baa7587277c9",
   "metadata": {},
   "source": [
    "# Deletando dados errados"
   ]
  },
  {
   "cell_type": "code",
   "execution_count": 5,
   "id": "ce18c2ed-71e0-4096-b260-9c7e056a2a2d",
   "metadata": {},
   "outputs": [
    {
     "name": "stdout",
     "output_type": "stream",
     "text": [
      "['Life Made WI-Fi Touchscreen Photo Frame', '1.9', '19', '3.0M', '1,000+', 'Free', '0', 'Everyone', '', 'February 11, 2018', '1.0.19', '4.0 and up']\n",
      "\n",
      "\n",
      "Posição do index é: 10473\n"
     ]
    }
   ],
   "source": [
    "# Checando se alguma das linhas do dataframe tem dados faltando.\n",
    "android_header = android[0]\n",
    "\n",
    "# Código abaixo itera sobre todo o dataframe (sem o header) e imprime a linha que tiver tamanho diferente do header\n",
    "for row in android[1:]:\n",
    "    if len(row) != len(android_header):\n",
    "       print(row)\n",
    "       print('\\n')\n",
    "       print('Posição do index é:', android.index(row))"
   ]
  },
  {
   "cell_type": "code",
   "execution_count": 6,
   "id": "30b70fc8-61f3-4206-84b1-2fdf8cfccd81",
   "metadata": {},
   "outputs": [],
   "source": [
    "# Deletando essa linha\n",
    "del android[10473]"
   ]
  },
  {
   "cell_type": "markdown",
   "id": "868d2299-4272-4e3c-ae96-5d3e09a370aa",
   "metadata": {},
   "source": [
    "# Deletando entradas duplicadas no df Android"
   ]
  },
  {
   "cell_type": "markdown",
   "id": "92beef0d-202b-4085-ba97-81d03b07c5fd",
   "metadata": {},
   "source": [
    "**DF da Apple Store não tem apps duplicados.**"
   ]
  },
  {
   "cell_type": "code",
   "execution_count": 7,
   "id": "dfffb998-83ad-4aa1-a567-90520cb84fca",
   "metadata": {},
   "outputs": [],
   "source": [
    "nomes_duplicados = []\n",
    "nomes_unicos = []\n",
    "\n",
    "for row in android[1:]:\n",
    "    nome = row[0]\n",
    "    if nome in nomes_unicos:\n",
    "        nomes_duplicados.append(nome)\n",
    "    else:\n",
    "        nomes_unicos.append(nome)"
   ]
  },
  {
   "cell_type": "code",
   "execution_count": 8,
   "id": "db3e9ede-5544-4879-90ff-3201f36e92a9",
   "metadata": {},
   "outputs": [
    {
     "name": "stdout",
     "output_type": "stream",
     "text": [
      "Número de aplicativos duplicados: 1181\n",
      "\n",
      "\n",
      "Exemplos de aplicativos duplicados ['Quick PDF Scanner + OCR FREE', 'Box', 'Google My Business', 'ZOOM Cloud Meetings', 'join.me - Simple Meetings', 'Box', 'Zenefits', 'Google Ads', 'Google My Business', 'Slack', 'FreshBooks Classic', 'Insightly CRM', 'QuickBooks Accounting: Invoicing & Expenses', 'HipChat - Chat Built for Teams', 'Xero Accounting Software']\n"
     ]
    }
   ],
   "source": [
    "print('Número de aplicativos duplicados:', len(nomes_duplicados))\n",
    "print('\\n')\n",
    "print('Exemplos de aplicativos duplicados', nomes_duplicados[:15])"
   ]
  },
  {
   "cell_type": "markdown",
   "id": "f6755075-e53e-49db-b1eb-d1cb25658ac4",
   "metadata": {},
   "source": [
    "Para decidir qual aplicativo vou manter dentre todos os duplicados, vou usar como critério o total de reviews (por ser a unia variável com valores inteiros, ao invés de divididos em faixas). O app com mais reviews fica, os demais serão excluídos. "
   ]
  },
  {
   "cell_type": "code",
   "execution_count": 9,
   "id": "21d55f77-3f70-438b-8f3d-75dbc8560688",
   "metadata": {},
   "outputs": [],
   "source": [
    "reviews_max = {}\n",
    "\n",
    "for row in android[1:]:\n",
    "    name = row[0]\n",
    "    n_reviews = float(row[3])\n",
    "    if name in reviews_max and reviews_max[name] < n_reviews:\n",
    "        reviews_max[name] = n_reviews\n",
    "    elif name not in reviews_max:\n",
    "        reviews_max[name] = n_reviews"
   ]
  },
  {
   "cell_type": "code",
   "execution_count": 10,
   "id": "f59c2f00-611a-4dde-8c91-94a10f17dcaa",
   "metadata": {},
   "outputs": [
    {
     "name": "stdout",
     "output_type": "stream",
     "text": [
      "9659\n"
     ]
    }
   ],
   "source": [
    "print(len(reviews_max))"
   ]
  },
  {
   "cell_type": "markdown",
   "id": "39f4c3bb-8cd9-496e-b9bf-2642391254c6",
   "metadata": {},
   "source": [
    "Agora, vamos usar o dicionário reviews_max para remover os duplicados. Neste caso, vamos manter apenas o app com o maior número de *reviews*.\n",
    "\n",
    "Crio duas listas: android_clean vai guardar os dados limpos; already_added vai apenar guardar os nomes do apps."
   ]
  },
  {
   "cell_type": "code",
   "execution_count": 11,
   "id": "a42c1aae-49bd-4a78-a819-d5ff9545324d",
   "metadata": {},
   "outputs": [],
   "source": [
    "android_clean = []\n",
    "already_added = []\n",
    "\n",
    "for row in android[1:]:\n",
    "    name = row[0]\n",
    "    n_reviews = float(row[3])\n",
    "    if n_reviews == reviews_max[name] and name not in already_added: # Este segundo argumento existe para evitar apps duplicados com o mesmo número de max reviews\n",
    "        android_clean.append(row)\n",
    "        already_added.append(name)"
   ]
  },
  {
   "cell_type": "code",
   "execution_count": 12,
   "id": "eaba3237-9aae-4b27-b9a1-f30b6f47a523",
   "metadata": {},
   "outputs": [
    {
     "name": "stdout",
     "output_type": "stream",
     "text": [
      "['Photo Editor & Candy Camera & Grid & ScrapBook', 'ART_AND_DESIGN', '4.1', '159', '19M', '10,000+', 'Free', '0', 'Everyone', 'Art & Design', 'January 7, 2018', '1.0.0', '4.0.3 and up']\n",
      "\n",
      "\n",
      "['U Launcher Lite – FREE Live Cool Themes, Hide Apps', 'ART_AND_DESIGN', '4.7', '87510', '8.7M', '5,000,000+', 'Free', '0', 'Everyone', 'Art & Design', 'August 1, 2018', '1.2.4', '4.0.3 and up']\n",
      "\n",
      "\n",
      "['Sketch - Draw & Paint', 'ART_AND_DESIGN', '4.5', '215644', '25M', '50,000,000+', 'Free', '0', 'Teen', 'Art & Design', 'June 8, 2018', 'Varies with device', '4.2 and up']\n",
      "\n",
      "\n",
      "Number of rows: 9659\n",
      "Number of columns: 13\n"
     ]
    }
   ],
   "source": [
    "# Checando se temos 9.659 linhas\n",
    "explore_data(android_clean, 0, 3, True)"
   ]
  },
  {
   "cell_type": "markdown",
   "id": "832e1f4b-d919-4713-8d97-2cfb0d9b9b58",
   "metadata": {},
   "source": [
    "# Removendo os aplicativos que não têm nome em inglês"
   ]
  },
  {
   "cell_type": "markdown",
   "id": "4eb487d0-c3d2-4aee-9c64-d6300427c631",
   "metadata": {},
   "source": [
    "Uma forma de fazer isso é removendo os aplicativos com nomes que utilizam caracteres não comumente utilizados na lingua inglesa, como '爱'.\n",
    "\n",
    "Utilizando ASCII, que designa um número para cada um destes caractéres (podem ser obtidos com a built-in function **ord()**), podemos construir uma função que detecta se um caractere está presente no conjunto da lingua inglesa ou não.\n",
    "\n",
    "- Os caracteres normalmente usados na linguagem ocidental estão entre **0 e 127** em ASCII"
   ]
  },
  {
   "cell_type": "markdown",
   "id": "20521331-f54d-4b7a-ae60-561ac1b1e6c5",
   "metadata": {},
   "source": [
    "# Função que pega uma string e retorna False se possuir algum caractere não comum em inglês. Caso contrário, retorna True\n",
    "\n",
    "def english_or_not(string):\n",
    "    for character in string:\n",
    "        if ord(character) > 127:\n",
    "            return False\n",
    "        \n",
    "        return True"
   ]
  },
  {
   "cell_type": "markdown",
   "id": "5954a48f-cc5d-4b25-bad3-62451aa033de",
   "metadata": {},
   "source": [
    "# Testando a função acima\n",
    "\n",
    "print(english_or_not('Instagram'))\n",
    "print(english_or_not('爱奇艺PPS -《欢乐颂2》电视剧热播'))\n",
    "print(english_or_not('Docs To Go™ Free Office Suite'))\n",
    "print(english_or_not('Instachat 😜'))"
   ]
  },
  {
   "cell_type": "markdown",
   "id": "b6026ead-f86d-48be-afe0-528f2543bec5",
   "metadata": {},
   "source": [
    "print(ord('😜'))\n",
    "print(ord('™'))"
   ]
  },
  {
   "cell_type": "markdown",
   "id": "4706b597-c649-469a-9066-11a0ada0b86a",
   "metadata": {},
   "source": [
    "Sinceramente não entendi como a função funcionou tendo esses caractéres acima na string. Para evitar problemas, vou alterar a função para excluir apenas se possuir mais de três caractéres fora do range do ASCII (0 - 127)"
   ]
  },
  {
   "cell_type": "code",
   "execution_count": 18,
   "id": "c9f0d139-5c92-44e6-9362-cd6f2772ad73",
   "metadata": {},
   "outputs": [],
   "source": [
    "def english_or_not(string):\n",
    "    non_ascii = 0\n",
    "    for character in string:\n",
    "        if ord(character) > 127:\n",
    "            non_ascii += 1\n",
    "            \n",
    "        if non_ascii > 3:\n",
    "            return False\n",
    "        \n",
    "    return True"
   ]
  },
  {
   "cell_type": "code",
   "execution_count": 19,
   "id": "dce80fab-668b-4ae3-82ce-db14b8672a4d",
   "metadata": {},
   "outputs": [
    {
     "name": "stdout",
     "output_type": "stream",
     "text": [
      "True\n",
      "True\n",
      "False\n"
     ]
    }
   ],
   "source": [
    "print(english_or_not('Docs To Go™ Free Office Suite'))\n",
    "print(english_or_not('Instachat 😜'))\n",
    "print(english_or_not('爱奇艺PPS -《欢乐颂2》电视剧热播'))"
   ]
  },
  {
   "cell_type": "markdown",
   "id": "04bd7d80-9237-4e2e-91ec-dbd73fb7de9c",
   "metadata": {},
   "source": [
    "Com a função funcionando, vou agora explorar os datasets da Google Play Store e da Apple Store para remover os nomes com caractéres fora do usual para a língua inglesa. Etapas:\n",
    "\n",
    "- Iterar sobre os dois datasets\n",
    "- Se o nome do app for identificado como inglês (retornar True), vou adicionar a linha toda a uma nova lista"
   ]
  },
  {
   "cell_type": "code",
   "execution_count": 20,
   "id": "65a38778-57c7-4a7d-9cad-1b760ceffd18",
   "metadata": {},
   "outputs": [],
   "source": [
    "# Google Play Store\n",
    "android_english = []\n",
    "\n",
    "for row in android_clean:\n",
    "    name = row[0]\n",
    "    if english_or_not(name) == True:\n",
    "        android_english.append(row)"
   ]
  },
  {
   "cell_type": "code",
   "execution_count": 21,
   "id": "f7ad62af-a4fa-4f44-ac0e-e456ee7c6b86",
   "metadata": {},
   "outputs": [],
   "source": [
    "# Apple Store\n",
    "apple_english = []\n",
    "\n",
    "for row in apple[1:]:\n",
    "    name = row[2]\n",
    "    if english_or_not(name) == True:\n",
    "        apple_english.append(row)"
   ]
  },
  {
   "cell_type": "code",
   "execution_count": 22,
   "id": "1396bec7-9e9c-4378-8a0e-6678d7b0aa1a",
   "metadata": {},
   "outputs": [
    {
     "name": "stdout",
     "output_type": "stream",
     "text": [
      "['Photo Editor & Candy Camera & Grid & ScrapBook', 'ART_AND_DESIGN', '4.1', '159', '19M', '10,000+', 'Free', '0', 'Everyone', 'Art & Design', 'January 7, 2018', '1.0.0', '4.0.3 and up']\n",
      "\n",
      "\n",
      "['U Launcher Lite – FREE Live Cool Themes, Hide Apps', 'ART_AND_DESIGN', '4.7', '87510', '8.7M', '5,000,000+', 'Free', '0', 'Everyone', 'Art & Design', 'August 1, 2018', '1.2.4', '4.0.3 and up']\n",
      "\n",
      "\n",
      "['Sketch - Draw & Paint', 'ART_AND_DESIGN', '4.5', '215644', '25M', '50,000,000+', 'Free', '0', 'Teen', 'Art & Design', 'June 8, 2018', 'Varies with device', '4.2 and up']\n",
      "\n",
      "\n",
      "Number of rows: 9614\n",
      "Number of columns: 13\n",
      "\n",
      "\n",
      "['1', '281656475', 'PAC-MAN Premium', '100788224', 'USD', '3.99', '21292', '26', '4', '4.5', '6.3.5', '4+', 'Games', '38', '5', '10', '1']\n",
      "\n",
      "\n",
      "['2', '281796108', 'Evernote - stay organized', '158578688', 'USD', '0', '161065', '26', '4', '3.5', '8.2.2', '4+', 'Productivity', '37', '5', '23', '1']\n",
      "\n",
      "\n",
      "['3', '281940292', 'WeatherBug - Local Weather, Radar, Maps, Alerts', '100524032', 'USD', '0', '188583', '2822', '3.5', '4.5', '5.0.0', '4+', 'Weather', '37', '5', '3', '1']\n",
      "\n",
      "\n",
      "Number of rows: 6183\n",
      "Number of columns: 17\n"
     ]
    }
   ],
   "source": [
    "explore_data(android_english, 0, 3, True)\n",
    "print('\\n')\n",
    "explore_data(apple_english, 0, 3, True)"
   ]
  },
  {
   "cell_type": "markdown",
   "id": "14d4ffb8-db43-441d-88b6-4d65f5af367d",
   "metadata": {},
   "source": [
    "# Separando os aplicativos gratuitos"
   ]
  },
  {
   "cell_type": "code",
   "execution_count": 23,
   "id": "498df416-0edf-42a5-9964-b1b78063c4b0",
   "metadata": {},
   "outputs": [],
   "source": [
    "# Google Play Store\n",
    "android_free = []\n",
    "\n",
    "for row in android_english:\n",
    "    price = row[6]\n",
    "    if price == 'Free':\n",
    "        android_free.append(row)\n",
    "        \n",
    "# Apple Store\n",
    "apple_free = []\n",
    "\n",
    "for row in apple_english:\n",
    "    price = row[5]\n",
    "    if price == '0':\n",
    "        apple_free.append(row)"
   ]
  },
  {
   "cell_type": "code",
   "execution_count": 24,
   "id": "49471644-a06b-46ce-b785-e31be97a7ed4",
   "metadata": {},
   "outputs": [
    {
     "name": "stdout",
     "output_type": "stream",
     "text": [
      "['Photo Editor & Candy Camera & Grid & ScrapBook', 'ART_AND_DESIGN', '4.1', '159', '19M', '10,000+', 'Free', '0', 'Everyone', 'Art & Design', 'January 7, 2018', '1.0.0', '4.0.3 and up']\n",
      "\n",
      "\n",
      "['U Launcher Lite – FREE Live Cool Themes, Hide Apps', 'ART_AND_DESIGN', '4.7', '87510', '8.7M', '5,000,000+', 'Free', '0', 'Everyone', 'Art & Design', 'August 1, 2018', '1.2.4', '4.0.3 and up']\n",
      "\n",
      "\n",
      "['Sketch - Draw & Paint', 'ART_AND_DESIGN', '4.5', '215644', '25M', '50,000,000+', 'Free', '0', 'Teen', 'Art & Design', 'June 8, 2018', 'Varies with device', '4.2 and up']\n",
      "\n",
      "\n",
      "Number of rows: 8863\n",
      "Number of columns: 13\n",
      "\n",
      "\n",
      "['2', '281796108', 'Evernote - stay organized', '158578688', 'USD', '0', '161065', '26', '4', '3.5', '8.2.2', '4+', 'Productivity', '37', '5', '23', '1']\n",
      "\n",
      "\n",
      "['3', '281940292', 'WeatherBug - Local Weather, Radar, Maps, Alerts', '100524032', 'USD', '0', '188583', '2822', '3.5', '4.5', '5.0.0', '4+', 'Weather', '37', '5', '3', '1']\n",
      "\n",
      "\n",
      "['4', '282614216', 'eBay: Best App to Buy, Sell, Save! Online Shopping', '128512000', 'USD', '0', '262241', '649', '4', '4.5', '5.10.0', '12+', 'Shopping', '37', '5', '9', '1']\n",
      "\n",
      "\n",
      "Number of rows: 3222\n",
      "Number of columns: 17\n"
     ]
    }
   ],
   "source": [
    "explore_data(android_free, 0, 3, True)\n",
    "print('\\n')\n",
    "explore_data(apple_free, 0, 3, True)"
   ]
  },
  {
   "cell_type": "markdown",
   "id": "3e774011-d257-4833-a6e6-9ac0c1953d97",
   "metadata": {},
   "source": [
    "# Aplicativos mais comuns por *gênero*"
   ]
  },
  {
   "cell_type": "markdown",
   "id": "5b985614-3a28-49b3-b5ab-d91add7c54b0",
   "metadata": {},
   "source": [
    "O objetivo do projeto é determinar os tipos de aplicativos mais atraentes para mais usuários.\n",
    "\n",
    "O processo de validação da empresa fictícia é o seguinte:\n",
    "\n",
    "1) Constrói um MVP para Android e o lança na Google Play Store;\n",
    "2) Se o aplicativo obter uma boa resposta dos usuários, o desenvolvem mais;\n",
    "3) Se o aplicativo for lucrativo após seis meses, constroem uma versão para iOS e a lançam na App Store\n",
    "\n",
    "Como o meu objetivo final é colocar o app nas duas lojas, preciso entender *o tipo de aplicativo que faz mais sucesso em cada uma delas.*"
   ]
  },
  {
   "cell_type": "code",
   "execution_count": 48,
   "id": "ad3d5727-507c-46a3-98d1-7406709e8d74",
   "metadata": {},
   "outputs": [
    {
     "name": "stdout",
     "output_type": "stream",
     "text": [
      "ART_AND_DESIGN Art & Design;Creativity\n",
      "Productivity\n"
     ]
    }
   ],
   "source": [
    "# Índice da coluna gênero na Play Store = 1 (Category) e 9 (Genres)\n",
    "# Índice da coluna gênero na App Store = 12 (Prime Genre)\n",
    "\n",
    "teste_and = android_free[3]\n",
    "teste_ios = apple_free[743]\n",
    "\n",
    "print(teste_and[1], teste_and[9])\n",
    "print(teste_ios[12])"
   ]
  },
  {
   "cell_type": "markdown",
   "id": "31e07639-09ea-4e74-a2bb-69c8106c27d5",
   "metadata": {},
   "source": [
    "A função *display_table()* abaixo faz o seguinte:\n",
    "\n",
    "- Recebe dois parâmetros: dataset e index. dataset vai ser uma lista de listas, index um integer\n",
    "- Gera uma tabela de frequência usando a função *freq_table()* (que vou codar abaixo)\n",
    "- Transforma a tabela de frequência em uma lista de tuplas, e então a ordena em ordem descendente\n",
    "- Imprime as entradas da tabela de frequência em ordem descendente"
   ]
  },
  {
   "cell_type": "code",
   "execution_count": 39,
   "id": "5654fce9-6b5c-4163-85b1-95bb205785f2",
   "metadata": {},
   "outputs": [],
   "source": [
    "def freq_table(dataset, index):\n",
    "    dictionary = {}\n",
    "    total = 0\n",
    "    \n",
    "    for row in dataset:\n",
    "        total += 1\n",
    "        value = row[index]\n",
    "        if value in dictionary:\n",
    "            dictionary[value] += 1\n",
    "        else:\n",
    "            dictionary[value] = 1\n",
    "            \n",
    "    dict_percentages = {}\n",
    "    for key in dictionary:\n",
    "        percentage = (dictionary[key] / total) * 100\n",
    "        dict_percentages[key] = percentage\n",
    "    \n",
    "    return dict_percentages"
   ]
  },
  {
   "cell_type": "code",
   "execution_count": 40,
   "id": "5299840a-b90a-43fc-9fca-ca6520efad3d",
   "metadata": {},
   "outputs": [],
   "source": [
    "def display_table(dataset, index):\n",
    "    table = freq_table(dataset, index)\n",
    "    table_display = []\n",
    "    for key in table:\n",
    "        key_val_as_tuple = (table[key], key)\n",
    "        table_display.append(key_val_as_tuple)\n",
    "\n",
    "    table_sorted = sorted(table_display, reverse = True)\n",
    "    for entry in table_sorted:\n",
    "        print(entry[1], ':', entry[0])"
   ]
  },
  {
   "cell_type": "markdown",
   "id": "5bff8ba5-0501-471a-96e6-9f4b37fa8244",
   "metadata": {},
   "source": [
    "# Explorando as tabelas de frequência"
   ]
  },
  {
   "cell_type": "markdown",
   "id": "19a78ea4-2489-4c78-93d6-5e8065fc3b6f",
   "metadata": {},
   "source": [
    "## Analisando primeiro as colunas da Google Play Store"
   ]
  },
  {
   "cell_type": "code",
   "execution_count": 41,
   "id": "e46726de-ecd9-420a-ae59-1e9277a87670",
   "metadata": {},
   "outputs": [
    {
     "name": "stdout",
     "output_type": "stream",
     "text": [
      "FAMILY : 18.898792733837304\n",
      "GAME : 9.725826469592688\n",
      "TOOLS : 8.462146000225657\n",
      "BUSINESS : 4.592124562789123\n",
      "LIFESTYLE : 3.9038700214374367\n",
      "PRODUCTIVITY : 3.8925871601038025\n",
      "FINANCE : 3.7007785174320205\n",
      "MEDICAL : 3.5315355974275078\n",
      "SPORTS : 3.396141261423897\n",
      "PERSONALIZATION : 3.317161232088458\n",
      "COMMUNICATION : 3.2381812027530184\n",
      "HEALTH_AND_FITNESS : 3.0802211440821394\n",
      "PHOTOGRAPHY : 2.944826808078529\n",
      "NEWS_AND_MAGAZINES : 2.798149610741284\n",
      "SOCIAL : 2.6627552747376737\n",
      "TRAVEL_AND_LOCAL : 2.335552296062281\n",
      "SHOPPING : 2.245289405393208\n",
      "BOOKS_AND_REFERENCE : 2.1437436533904997\n",
      "DATING : 1.8616721200496444\n",
      "VIDEO_PLAYERS : 1.7939749520478394\n",
      "MAPS_AND_NAVIGATION : 1.399074805370642\n",
      "FOOD_AND_DRINK : 1.241114746699763\n",
      "EDUCATION : 1.1621347173643235\n",
      "ENTERTAINMENT : 0.9590432133589079\n",
      "LIBRARIES_AND_DEMO : 0.9364774906916393\n",
      "AUTO_AND_VEHICLES : 0.9251946293580051\n",
      "HOUSE_AND_HOME : 0.8236488773552973\n",
      "WEATHER : 0.8010831546880289\n",
      "EVENTS : 0.7108202640189552\n",
      "PARENTING : 0.6544059573507841\n",
      "ART_AND_DESIGN : 0.6431230960171499\n",
      "COMICS : 0.6205573733498815\n",
      "BEAUTY : 0.5979916506826132\n"
     ]
    }
   ],
   "source": [
    "# Coluna 'Category' \n",
    "display_table(android_free, 1)"
   ]
  },
  {
   "cell_type": "markdown",
   "id": "9c2abb42-fbc3-4675-b08d-0c41d4103197",
   "metadata": {},
   "source": [
    "Na tabela acima, referente à coluna 'Category', podemos notar que as categorias *FAMILY* (**19%**) e *GAME* (**10%**) ocupam as duas primeiras posições da tabela. A categoria de apps FAMILY consiste basicamente de jogos, então vemos que este tipo de aplicativo é o mais presente na loja da Google. Eles são seguidos pelas categorias *TOOLS* (**8%**), *BUSINESS* (**4%**) e *LIFESTYLE* (**4%**)\n",
    "\n",
    "Apesar da semelhança com a Apple Store no sentido de aplicativos de lazer ocuparem o topo da lista, na Google Play Store, aplicativos de utilidades estão melhor representados aqui e podemos reforçar esta hipótese com a tabela abaixo, feita a partir da coluna 'Genre'"
   ]
  },
  {
   "cell_type": "code",
   "execution_count": 46,
   "id": "9f9cd029-3b19-4791-b820-88aa645654e6",
   "metadata": {},
   "outputs": [
    {
     "name": "stdout",
     "output_type": "stream",
     "text": [
      "Tools : 8.450863138892023\n",
      "Entertainment : 6.070179397495204\n",
      "Education : 5.348076272142616\n",
      "Business : 4.592124562789123\n",
      "Productivity : 3.8925871601038025\n",
      "Lifestyle : 3.8925871601038025\n",
      "Finance : 3.7007785174320205\n",
      "Medical : 3.5315355974275078\n",
      "Sports : 3.463838429425702\n",
      "Personalization : 3.317161232088458\n",
      "Communication : 3.2381812027530184\n",
      "Action : 3.102786866749408\n",
      "Health & Fitness : 3.0802211440821394\n",
      "Photography : 2.944826808078529\n",
      "News & Magazines : 2.798149610741284\n",
      "Social : 2.6627552747376737\n",
      "Travel & Local : 2.324269434728647\n",
      "Shopping : 2.245289405393208\n",
      "Books & Reference : 2.1437436533904997\n",
      "Simulation : 2.042197901387792\n",
      "Dating : 1.8616721200496444\n",
      "Arcade : 1.8503892587160102\n",
      "Video Players & Editors : 1.771409229380571\n",
      "Casual : 1.7601263680469368\n",
      "Maps & Navigation : 1.399074805370642\n",
      "Food & Drink : 1.241114746699763\n",
      "Puzzle : 1.128286133363421\n",
      "Racing : 0.9928917973598104\n",
      "Role Playing : 0.9364774906916393\n",
      "Libraries & Demo : 0.9364774906916393\n",
      "Auto & Vehicles : 0.9251946293580051\n",
      "Strategy : 0.9026289066907368\n",
      "House & Home : 0.8236488773552973\n",
      "Weather : 0.8010831546880289\n",
      "Events : 0.7108202640189552\n",
      "Adventure : 0.6769716800180525\n",
      "Comics : 0.6092745120162473\n",
      "Beauty : 0.5979916506826132\n",
      "Art & Design : 0.5979916506826132\n",
      "Parenting : 0.4964458986799052\n",
      "Card : 0.4513144533453684\n",
      "Casino : 0.42874873067809993\n",
      "Trivia : 0.4174658693444658\n",
      "Educational;Education : 0.3949001466771973\n",
      "Board : 0.38361728534356315\n",
      "Educational : 0.37233442400992894\n",
      "Education;Education : 0.33848584000902626\n",
      "Word : 0.25950581067358686\n",
      "Casual;Pretend Play : 0.2369400880063184\n",
      "Music : 0.20309150400541578\n",
      "Racing;Action & Adventure : 0.16924292000451313\n",
      "Puzzle;Brain Games : 0.16924292000451313\n",
      "Entertainment;Music & Video : 0.16924292000451313\n",
      "Casual;Brain Games : 0.1353943360036105\n",
      "Casual;Action & Adventure : 0.1353943360036105\n",
      "Arcade;Action & Adventure : 0.1241114746699763\n",
      "Action;Action & Adventure : 0.10154575200270789\n",
      "Educational;Pretend Play : 0.09026289066907367\n",
      "Simulation;Action & Adventure : 0.07898002933543948\n",
      "Parenting;Education : 0.07898002933543948\n",
      "Entertainment;Brain Games : 0.07898002933543948\n",
      "Board;Brain Games : 0.07898002933543948\n",
      "Parenting;Music & Video : 0.06769716800180525\n",
      "Educational;Brain Games : 0.06769716800180525\n",
      "Casual;Creativity : 0.06769716800180525\n",
      "Art & Design;Creativity : 0.06769716800180525\n",
      "Education;Pretend Play : 0.05641430666817105\n",
      "Role Playing;Pretend Play : 0.045131445334536835\n",
      "Education;Creativity : 0.045131445334536835\n",
      "Role Playing;Action & Adventure : 0.033848584000902626\n",
      "Puzzle;Action & Adventure : 0.033848584000902626\n",
      "Entertainment;Creativity : 0.033848584000902626\n",
      "Entertainment;Action & Adventure : 0.033848584000902626\n",
      "Educational;Creativity : 0.033848584000902626\n",
      "Educational;Action & Adventure : 0.033848584000902626\n",
      "Education;Music & Video : 0.033848584000902626\n",
      "Education;Brain Games : 0.033848584000902626\n",
      "Education;Action & Adventure : 0.033848584000902626\n",
      "Adventure;Action & Adventure : 0.033848584000902626\n",
      "Video Players & Editors;Music & Video : 0.022565722667268417\n",
      "Sports;Action & Adventure : 0.022565722667268417\n",
      "Simulation;Pretend Play : 0.022565722667268417\n",
      "Puzzle;Creativity : 0.022565722667268417\n",
      "Music;Music & Video : 0.022565722667268417\n",
      "Entertainment;Pretend Play : 0.022565722667268417\n",
      "Casual;Education : 0.022565722667268417\n",
      "Board;Action & Adventure : 0.022565722667268417\n",
      "Video Players & Editors;Creativity : 0.011282861333634209\n",
      "Trivia;Education : 0.011282861333634209\n",
      "Travel & Local;Action & Adventure : 0.011282861333634209\n",
      "Tools;Education : 0.011282861333634209\n",
      "Strategy;Education : 0.011282861333634209\n",
      "Strategy;Creativity : 0.011282861333634209\n",
      "Strategy;Action & Adventure : 0.011282861333634209\n",
      "Simulation;Education : 0.011282861333634209\n",
      "Role Playing;Brain Games : 0.011282861333634209\n",
      "Racing;Pretend Play : 0.011282861333634209\n",
      "Puzzle;Education : 0.011282861333634209\n",
      "Parenting;Brain Games : 0.011282861333634209\n",
      "Music & Audio;Music & Video : 0.011282861333634209\n",
      "Lifestyle;Pretend Play : 0.011282861333634209\n",
      "Lifestyle;Education : 0.011282861333634209\n",
      "Health & Fitness;Education : 0.011282861333634209\n",
      "Health & Fitness;Action & Adventure : 0.011282861333634209\n",
      "Entertainment;Education : 0.011282861333634209\n",
      "Communication;Creativity : 0.011282861333634209\n",
      "Comics;Creativity : 0.011282861333634209\n",
      "Casual;Music & Video : 0.011282861333634209\n",
      "Card;Action & Adventure : 0.011282861333634209\n",
      "Books & Reference;Education : 0.011282861333634209\n",
      "Art & Design;Pretend Play : 0.011282861333634209\n",
      "Art & Design;Action & Adventure : 0.011282861333634209\n",
      "Arcade;Pretend Play : 0.011282861333634209\n",
      "Adventure;Education : 0.011282861333634209\n"
     ]
    }
   ],
   "source": [
    "# Coluna 'Genre' \n",
    "display_table(android_free, 9)"
   ]
  },
  {
   "cell_type": "markdown",
   "id": "e0689c4e-e94a-46b1-85a2-0f52bf683289",
   "metadata": {},
   "source": [
    "## Analisando a coluna da Apple Store"
   ]
  },
  {
   "cell_type": "code",
   "execution_count": 47,
   "id": "ee79bbf7-829c-4a98-acae-71578b13e748",
   "metadata": {},
   "outputs": [
    {
     "name": "stdout",
     "output_type": "stream",
     "text": [
      "Games : 58.16263190564867\n",
      "Entertainment : 7.883302296710118\n",
      "Photo & Video : 4.9658597144630665\n",
      "Education : 3.662321539416512\n",
      "Social Networking : 3.2898820608317814\n",
      "Shopping : 2.60707635009311\n",
      "Utilities : 2.5139664804469275\n",
      "Sports : 2.1415270018621975\n",
      "Music : 2.0484171322160147\n",
      "Health & Fitness : 2.0173805090006205\n",
      "Productivity : 1.7380509000620732\n",
      "Lifestyle : 1.5828677839851024\n",
      "News : 1.3345747982619491\n",
      "Travel : 1.2414649286157666\n",
      "Finance : 1.1173184357541899\n",
      "Weather : 0.8690254500310366\n",
      "Food & Drink : 0.8069522036002483\n",
      "Reference : 0.5586592178770949\n",
      "Business : 0.5276225946617008\n",
      "Book : 0.4345127250155183\n",
      "Navigation : 0.186219739292365\n",
      "Medical : 0.186219739292365\n",
      "Catalogs : 0.12414649286157665\n"
     ]
    }
   ],
   "source": [
    "display_table(apple_free, 12)"
   ]
  },
  {
   "cell_type": "markdown",
   "id": "c0ab7040-7e14-448a-907a-7f4317c6f804",
   "metadata": {},
   "source": [
    "Com base na tabela gerada (dos aplicativos em inglês), podemos concluir que os aplicativos de *jogos ('Games')* representam **58%** do total de apps da loja, seguidos dos de *entretenimento ('Entertainment')* com **8%** e os de *foto & vídeo ('Photo & Video')* com **5%**.\n",
    "\n",
    "Outra conclusão que podemos tirar da tabela acima é que aplicativos ligados ao lazer, como os de jogos, entretenimento, redes sociais e música, ocupam a parte de cima da tabela. Na outra ponta, estão aplicativos mais 'utilitários', como os de clima, finanças e negócios."
   ]
  },
  {
   "cell_type": "markdown",
   "id": "cb518410-cfb9-48d7-93c9-bc7a0d8b03cd",
   "metadata": {},
   "source": [
    "# Determinando o tipo de aplicativo com mais usuários"
   ]
  },
  {
   "cell_type": "markdown",
   "id": "bf19d687-079c-4022-b1c0-9fd0860aee4f",
   "metadata": {},
   "source": [
    "Uma maneira de checar o tipo de aplicativo com mais usuários é checando o número de *instalações ('Installs')*, no caso da tabela da Google Play Store, e no caso da Apple Store, utilizando o *número total de reviews ('rating_count_tot')*, uma vez que não nos é fornecido o número de instalações."
   ]
  },
  {
   "cell_type": "markdown",
   "id": "c9b71f0c-8bee-45ef-8cd1-1f31acfcbf36",
   "metadata": {},
   "source": [
    "## Apple Store"
   ]
  },
  {
   "cell_type": "markdown",
   "id": "efb48b4f-a9ce-4a2c-98e9-58ccfdf9e886",
   "metadata": {},
   "source": [
    "No caso da Apple Store, precisamos:\n",
    "\n",
    "- Separar os aplicativos de cada gênero\n",
    "- Somar as avaliações dos usuários para o gênero em questão\n",
    "- Dividir o total das avaliações pelo número de aplicativos neste gênero"
   ]
  },
  {
   "cell_type": "code",
   "execution_count": 52,
   "id": "30119a7b-3de5-44c5-9029-82462be7fc7c",
   "metadata": {},
   "outputs": [
    {
     "data": {
      "text/plain": [
       "{'Productivity': 1.7380509000620732,\n",
       " 'Weather': 0.8690254500310366,\n",
       " 'Shopping': 2.60707635009311,\n",
       " 'Reference': 0.5586592178770949,\n",
       " 'Finance': 1.1173184357541899,\n",
       " 'Music': 2.0484171322160147,\n",
       " 'Utilities': 2.5139664804469275,\n",
       " 'Travel': 1.2414649286157666,\n",
       " 'Social Networking': 3.2898820608317814,\n",
       " 'Sports': 2.1415270018621975,\n",
       " 'Health & Fitness': 2.0173805090006205,\n",
       " 'Games': 58.16263190564867,\n",
       " 'Food & Drink': 0.8069522036002483,\n",
       " 'News': 1.3345747982619491,\n",
       " 'Book': 0.4345127250155183,\n",
       " 'Photo & Video': 4.9658597144630665,\n",
       " 'Entertainment': 7.883302296710118,\n",
       " 'Business': 0.5276225946617008,\n",
       " 'Lifestyle': 1.5828677839851024,\n",
       " 'Education': 3.662321539416512,\n",
       " 'Navigation': 0.186219739292365,\n",
       " 'Medical': 0.186219739292365,\n",
       " 'Catalogs': 0.12414649286157665}"
      ]
     },
     "execution_count": 52,
     "metadata": {},
     "output_type": "execute_result"
    }
   ],
   "source": [
    "apple_genres = freq_table(apple_free, 12)\n",
    "apple_genres"
   ]
  },
  {
   "cell_type": "code",
   "execution_count": 58,
   "id": "047402f9-fee8-4e48-aabe-8e1cbaeca88f",
   "metadata": {},
   "outputs": [
    {
     "name": "stdout",
     "output_type": "stream",
     "text": [
      "Productivity : 21028\n",
      "Weather : 52280\n",
      "Shopping : 26920\n",
      "Reference : 74942\n",
      "Finance : 31468\n",
      "Music : 57327\n",
      "Utilities : 18684\n",
      "Travel : 28244\n",
      "Social Networking : 71548\n",
      "Sports : 23009\n",
      "Health & Fitness : 23298\n",
      "Games : 22789\n",
      "Food & Drink : 33334\n",
      "News : 21248\n",
      "Book : 39758\n",
      "Photo & Video : 28442\n",
      "Entertainment : 14030\n",
      "Business : 7491\n",
      "Lifestyle : 16486\n",
      "Education : 7004\n",
      "Navigation : 86090\n",
      "Medical : 612\n",
      "Catalogs : 4004\n"
     ]
    }
   ],
   "source": [
    "for genre in apple_genres:\n",
    "    total = 0\n",
    "    len_genre = 0\n",
    "    \n",
    "    for app in apple_free:\n",
    "        genre_app = app[12]\n",
    "        if genre_app == genre:\n",
    "            ratings = float(app[6])\n",
    "            total += ratings\n",
    "            len_genre += 1\n",
    "\n",
    "    average_ratings = round(total / len_genre)\n",
    "    print(genre, ':', average_ratings)"
   ]
  },
  {
   "cell_type": "markdown",
   "id": "73a60c4f-b19a-4d2c-b86d-3e7890e0eabc",
   "metadata": {},
   "source": [
    "Com base nos resultados, aplicativos de **'Navigation'** possuem maior número de avaliações pelo total de apps na categoria, com *86.090*.\n",
    "\n",
    "Outras possíveis opções seriam os apps de **'Reference'**, com *74.942*; e os de **'Social Networking'**, com *71.548*"
   ]
  },
  {
   "cell_type": "markdown",
   "id": "87b6def2-4ede-47b8-97f0-870529663a10",
   "metadata": {},
   "source": [
    "## Google Play Store"
   ]
  },
  {
   "cell_type": "code",
   "execution_count": 59,
   "id": "4cfdf656-f132-436e-90f2-1da5318d5eac",
   "metadata": {},
   "outputs": [
    {
     "name": "stdout",
     "output_type": "stream",
     "text": [
      "1,000,000+ : 15.728308699086089\n",
      "100,000+ : 11.55365000564143\n",
      "10,000,000+ : 10.549475346947986\n",
      "10,000+ : 10.199706645605326\n",
      "1,000+ : 8.394448832223853\n",
      "100+ : 6.916393997517771\n",
      "5,000,000+ : 6.826131106848697\n",
      "500,000+ : 5.562450637481666\n",
      "50,000+ : 4.772650344127271\n",
      "5,000+ : 4.513144533453684\n",
      "10+ : 3.542818458761142\n",
      "500+ : 3.2494640640866526\n",
      "50,000,000+ : 2.3017037120613786\n",
      "100,000,000+ : 2.1324607920568655\n",
      "50+ : 1.9180864267178157\n",
      "5+ : 0.7898002933543946\n",
      "1+ : 0.5077287600135394\n",
      "500,000,000+ : 0.270788672007221\n",
      "1,000,000,000+ : 0.2256572266726842\n",
      "0+ : 0.045131445334536835\n"
     ]
    }
   ],
   "source": [
    "# Checando a coluna de 'Installs'\n",
    "\n",
    "display_table(android_free, 5)"
   ]
  },
  {
   "cell_type": "markdown",
   "id": "013373df-cd2f-41fb-8a8c-fb635bd593f7",
   "metadata": {},
   "source": [
    "As categorias estão divididas por faixas. Como não precisamos dos números exatos, apenas entender quais categorias possuem maior número de instalações, podemos trabalhar com estes valores. Vamos precisar:\n",
    "\n",
    "- Converter cada uma das strings em um valor float\n",
    "- Remover as vírgulas e o sinal de + do final\n",
    "\n",
    "Para remover os caracteres, vamos usar o method **str.replace(old, new)**. Ele recebe os parâmetros *old* e *new*, e substitui todas as ocorrências do primeiro pelo segundo."
   ]
  },
  {
   "cell_type": "code",
   "execution_count": 61,
   "id": "afa09221-762e-4485-b536-fea0f7aaab83",
   "metadata": {},
   "outputs": [
    {
     "data": {
      "text/plain": [
       "{'ART_AND_DESIGN': 0.6431230960171499,\n",
       " 'AUTO_AND_VEHICLES': 0.9251946293580051,\n",
       " 'BEAUTY': 0.5979916506826132,\n",
       " 'BOOKS_AND_REFERENCE': 2.1437436533904997,\n",
       " 'BUSINESS': 4.592124562789123,\n",
       " 'COMICS': 0.6205573733498815,\n",
       " 'COMMUNICATION': 3.2381812027530184,\n",
       " 'DATING': 1.8616721200496444,\n",
       " 'EDUCATION': 1.1621347173643235,\n",
       " 'ENTERTAINMENT': 0.9590432133589079,\n",
       " 'EVENTS': 0.7108202640189552,\n",
       " 'FINANCE': 3.7007785174320205,\n",
       " 'FOOD_AND_DRINK': 1.241114746699763,\n",
       " 'HEALTH_AND_FITNESS': 3.0802211440821394,\n",
       " 'HOUSE_AND_HOME': 0.8236488773552973,\n",
       " 'LIBRARIES_AND_DEMO': 0.9364774906916393,\n",
       " 'LIFESTYLE': 3.9038700214374367,\n",
       " 'GAME': 9.725826469592688,\n",
       " 'FAMILY': 18.898792733837304,\n",
       " 'MEDICAL': 3.5315355974275078,\n",
       " 'SOCIAL': 2.6627552747376737,\n",
       " 'SHOPPING': 2.245289405393208,\n",
       " 'PHOTOGRAPHY': 2.944826808078529,\n",
       " 'SPORTS': 3.396141261423897,\n",
       " 'TRAVEL_AND_LOCAL': 2.335552296062281,\n",
       " 'TOOLS': 8.462146000225657,\n",
       " 'PERSONALIZATION': 3.317161232088458,\n",
       " 'PRODUCTIVITY': 3.8925871601038025,\n",
       " 'PARENTING': 0.6544059573507841,\n",
       " 'WEATHER': 0.8010831546880289,\n",
       " 'VIDEO_PLAYERS': 1.7939749520478394,\n",
       " 'NEWS_AND_MAGAZINES': 2.798149610741284,\n",
       " 'MAPS_AND_NAVIGATION': 1.399074805370642}"
      ]
     },
     "execution_count": 61,
     "metadata": {},
     "output_type": "execute_result"
    }
   ],
   "source": [
    "android_cat = freq_table(android_free, 1)\n",
    "android_cat"
   ]
  },
  {
   "cell_type": "code",
   "execution_count": 63,
   "id": "f4473213-7885-497f-8d9d-7f6b67a02254",
   "metadata": {},
   "outputs": [
    {
     "name": "stdout",
     "output_type": "stream",
     "text": [
      "ART_AND_DESIGN : 1986335\n",
      "AUTO_AND_VEHICLES : 647318\n",
      "BEAUTY : 513152\n",
      "BOOKS_AND_REFERENCE : 8767812\n",
      "BUSINESS : 1712290\n",
      "COMICS : 817657\n",
      "COMMUNICATION : 38456119\n",
      "DATING : 854029\n",
      "EDUCATION : 1833495\n",
      "ENTERTAINMENT : 11640706\n",
      "EVENTS : 253542\n",
      "FINANCE : 1387692\n",
      "FOOD_AND_DRINK : 1924898\n",
      "HEALTH_AND_FITNESS : 4188822\n",
      "HOUSE_AND_HOME : 1331541\n",
      "LIBRARIES_AND_DEMO : 638504\n",
      "LIFESTYLE : 1437816\n",
      "GAME : 15588016\n",
      "FAMILY : 3697848\n",
      "MEDICAL : 120551\n",
      "SOCIAL : 23253652\n",
      "SHOPPING : 7036877\n",
      "PHOTOGRAPHY : 17840110\n",
      "SPORTS : 3638640\n",
      "TRAVEL_AND_LOCAL : 13984078\n",
      "TOOLS : 10801391\n",
      "PERSONALIZATION : 5201483\n",
      "PRODUCTIVITY : 16787331\n",
      "PARENTING : 542604\n",
      "WEATHER : 5074486\n",
      "VIDEO_PLAYERS : 24727872\n",
      "NEWS_AND_MAGAZINES : 9549178\n",
      "MAPS_AND_NAVIGATION : 4056942\n"
     ]
    }
   ],
   "source": [
    "for category in android_cat:\n",
    "    total = 0\n",
    "    len_category = 0\n",
    "    \n",
    "    for app in android_free:\n",
    "        category_app = app[1]\n",
    "        if category_app == category:\n",
    "            installs = app[5]\n",
    "            installs = installs.replace('+', '')\n",
    "            installs = installs.replace(',', '')\n",
    "            total += float(installs)\n",
    "            len_category += 1\n",
    "\n",
    "    avg_installs = round(total / len_category)\n",
    "    print(category, ':', avg_installs)\n"
   ]
  },
  {
   "cell_type": "markdown",
   "id": "6a845e79-a9fe-4b62-a29f-5a959a6d00ae",
   "metadata": {},
   "source": [
    "video_players = 24.727.872\n",
    "productivity = 16.787.331\n",
    "tools = 10.801.391\n",
    "TRAVEL_AND_LOCAL : 13.984.078\n",
    "PHOTOGRAPHY : 17.840.110\n",
    "SOCIAL : 23.253.652\n",
    "GAME : 15.588.016\n",
    "COMMUNICATION : 38.456.119\n",
    "\n",
    "Analisando a tabela acima, a categoria de apps com o maior número de instalações é a de 'Communication', com 38M, mas o número é enviesado por conta da dominância de certos softwares, como WhatsApp, Messenger, Google Chrome, Gmail e etc.\n",
    "\n"
   ]
  }
 ],
 "metadata": {
  "kernelspec": {
   "display_name": "Python 3 (ipykernel)",
   "language": "python",
   "name": "python3"
  },
  "language_info": {
   "codemirror_mode": {
    "name": "ipython",
    "version": 3
   },
   "file_extension": ".py",
   "mimetype": "text/x-python",
   "name": "python",
   "nbconvert_exporter": "python",
   "pygments_lexer": "ipython3",
   "version": "3.9.7"
  }
 },
 "nbformat": 4,
 "nbformat_minor": 5
}
